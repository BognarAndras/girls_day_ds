{
  "nbformat": 4,
  "nbformat_minor": 0,
  "metadata": {
    "colab": {
      "provenance": [],
      "authorship_tag": "ABX9TyOfhrynFukae//IzA7NQ+tr",
      "include_colab_link": true
    },
    "kernelspec": {
      "name": "python3",
      "display_name": "Python 3"
    },
    "language_info": {
      "name": "python"
    }
  },
  "cells": [
    {
      "cell_type": "markdown",
      "metadata": {
        "id": "view-in-github",
        "colab_type": "text"
      },
      "source": [
        "<a href=\"https://colab.research.google.com/github/erfrits/girls_day_ds/blob/main/1_intro.ipynb\" target=\"_parent\"><img src=\"https://colab.research.google.com/assets/colab-badge.svg\" alt=\"Open In Colab\"/></a>"
      ]
    },
    {
      "cell_type": "markdown",
      "source": [
        "# Bevezető"
      ],
      "metadata": {
        "id": "daSK7hxh5mfb"
      }
    },
    {
      "cell_type": "markdown",
      "source": [
        "## Kik vagyunk ma itt?"
      ],
      "metadata": {
        "id": "8v9UYTck5tbi"
      }
    },
    {
      "cell_type": "code",
      "source": [
        "# Ki hány üzenetet küldött el ma?\n",
        "messages = []"
      ],
      "metadata": {
        "id": "NMLjBiHXfQCk"
      },
      "execution_count": null,
      "outputs": []
    },
    {
      "cell_type": "code",
      "source": [
        "# Ki hány videót/képet lájkolt ma?\n",
        "likes = []"
      ],
      "metadata": {
        "id": "CRSg-hvtfgR7"
      },
      "execution_count": null,
      "outputs": []
    },
    {
      "cell_type": "code",
      "source": [
        "# Adat vagy információ?\n",
        "data_info = {\n",
        "    \"Autó és végsebessége táblázatan\": {\"adat\": 0, \"információ\": 0},\n",
        "    \"Tegnap 10-kor volt egy meeting\": {\"adat\": 0, \"információ\": 0}\n",
        "}"
      ],
      "metadata": {
        "id": "pfTNYtF8o5rv"
      },
      "execution_count": null,
      "outputs": []
    },
    {
      "cell_type": "code",
      "source": [
        "# Ki milyen programozási nyelvet használ?\n",
        "prog_lng = {\n",
        "    \"Python\": 0,\n",
        "    \"Java\": 0,\n",
        "    \"C++\": 0,\n",
        "    \"Go\": 0,\n",
        "    \"JavaScript/TypeScript\": 0,\n",
        "    \"Más\": 0,\n",
        "    \"Nem programozok\": 0\n",
        "}"
      ],
      "metadata": {
        "id": "qmZOL-ZU1IHp"
      },
      "execution_count": null,
      "outputs": []
    },
    {
      "cell_type": "code",
      "source": [
        "# Ki tudja mi az a data science (adattudomány)?\n",
        "ds_know = {\n",
        "    'Nem hallottam még róla': 0,\n",
        "    'Hallottam, de nem tudom': 0,\n",
        "    'El tudom képzelni': 0,\n",
        "    'Próbálkoztam már vele': 0,\n",
        "    'Akár én is tarthatnám ezt a workshopot': 0\n",
        "}"
      ],
      "metadata": {
        "id": "ofpod6x0MSt7"
      },
      "execution_count": null,
      "outputs": []
    },
    {
      "cell_type": "code",
      "source": [
        "# Ki használt már gépi tanulást bármire?\n",
        "ml_use = {\n",
        "    'Igen': 0,\n",
        "    'Nem': 0\n",
        "}"
      ],
      "metadata": {
        "id": "9uFNjiG7E6_S"
      },
      "execution_count": null,
      "outputs": []
    },
    {
      "cell_type": "code",
      "source": [
        "# Ki használt már ChatGPT-t, Bing Copilotot, GitHub Copilot-ot, Google Gemini, stb.?\n",
        "llm_use = {\n",
        "    \"ChatGPT\": 0,\n",
        "    \"Bing Copilot\": 0,\n",
        "    \"Google Gemini\": 0,\n",
        "    \"GitHub Copilot\": 0,\n",
        "    \"Más\": 0,\n",
        "    \"Nem használtam\": 0\n",
        "}\n"
      ],
      "metadata": {
        "id": "dNuzY2kBFYq8"
      },
      "execution_count": null,
      "outputs": []
    },
    {
      "cell_type": "code",
      "source": [
        "# Honnan jöttünk (vármegye első két betű), korunk, cipőméret?\n",
        "data = [\n",
        "    []\n",
        "]\n"
      ],
      "metadata": {
        "id": "57Rg-0-UCDGL"
      },
      "execution_count": null,
      "outputs": []
    },
    {
      "cell_type": "markdown",
      "source": [
        "## Egy kis történelem...\n",
        "\n",
        "Adatok mindenütt vannak és minden másodpercben generáljuk és gyűjtjük őket.\n",
        "\n",
        "Már az ősember is...  \n",
        "![barlangrajz](https://upload.wikimedia.org/wikipedia/commons/6/6f/Lubang_Jeriji_Sal%C3%A9h_cave_painting_of_Bull.jpg)\n",
        "\n",
        "És azóta is csak gyártjuk...  \n",
        "![könyvtár](https://upload.wikimedia.org/wikipedia/commons/4/45/%E3%83%AA%E3%82%AA%E3%81%AE%E5%B9%BB%E6%83%B3%E5%9B%B3%E6%9B%B8%E9%A4%A8_Real_Gabinete_Portugues_de_Leitura_%288735773218%29.jpg)\n",
        "\n",
        "Már az elődeink is tudták, hogy az adatokat táblázatban könnyebb használni:  \n",
        "![Babylon](https://upload.wikimedia.org/wikipedia/commons/c/c2/Plimpton_322.jpg)\n",
        "\n",
        "Azóta is ezt a formát használjuk :)  \n",
        "![adattábla](https://upload.wikimedia.org/wikipedia/commons/9/98/Rollup_table.png)\n",
        "\n"
      ],
      "metadata": {
        "id": "JoL8q3kYgbzG"
      }
    },
    {
      "cell_type": "markdown",
      "source": [
        "## Mit tehetünk az adatokkal? - adatelemzés\n"
      ],
      "metadata": {
        "id": "uNDy4XSboKWN"
      }
    },
    {
      "cell_type": "code",
      "source": [
        "# Hányan vagyunk ma itt?\n",
        "(len(messages), len(likes))"
      ],
      "metadata": {
        "id": "8Z8bK96poITb"
      },
      "execution_count": null,
      "outputs": []
    },
    {
      "cell_type": "code",
      "source": [
        "# Néhány alapadat az üzenetküldési szokásainkról...\n",
        "print(\"Átlagos üzenetszám: \", sum(messages) / len(messages))\n",
        "print(\"Legaktívabb felhasználó üzenetei: \", max(messages))\n",
        "print(\"Legkevésbé aktív felhasználó üzenetei: \", min(messages))"
      ],
      "metadata": {
        "id": "g2AnlyedqXww"
      },
      "execution_count": null,
      "outputs": []
    },
    {
      "cell_type": "code",
      "source": [
        "import matplotlib.pyplot as plt"
      ],
      "metadata": {
        "id": "Sipy6Uniq6VN"
      },
      "execution_count": 1,
      "outputs": []
    },
    {
      "cell_type": "code",
      "source": [
        "# Aktivitás lájkokban - hisztogram\n",
        "plt.hist(likes)"
      ],
      "metadata": {
        "id": "24yJcmKYA_uL"
      },
      "execution_count": null,
      "outputs": []
    },
    {
      "cell_type": "code",
      "source": [
        "# data science ismeret - tortadiagram\n",
        "labels = list(ds_know.keys())\n",
        "sizes = list(ds_know.values())\n",
        "\n",
        "fig, ax = plt.subplots()\n",
        "ax.pie(sizes, labels=labels)\n",
        "# ax.pie(sizes, labels=labels, autopct='%1.2f%%')"
      ],
      "metadata": {
        "id": "YSVdJPD9BEQt"
      },
      "execution_count": null,
      "outputs": []
    },
    {
      "cell_type": "code",
      "source": [
        "l = [(1,3), (2,6), (3,4)]\n",
        "\n",
        "l1 = sorted(l, key=lambda x: -x[1])\n",
        "\n",
        "tuple(zip(*l1))"
      ],
      "metadata": {
        "id": "5il8gZemyisx",
        "outputId": "10c23fe5-918d-48ff-b1a4-12d81ecc6742",
        "colab": {
          "base_uri": "https://localhost:8080/"
        }
      },
      "execution_count": 18,
      "outputs": [
        {
          "output_type": "execute_result",
          "data": {
            "text/plain": [
              "((2, 3, 1), (6, 4, 3))"
            ]
          },
          "metadata": {},
          "execution_count": 18
        }
      ]
    },
    {
      "cell_type": "code",
      "source": [
        "# Nyelvi modell ismeret - vízszintes osztlopdiagram\n",
        "\n",
        "# címkék és adatok kinyerése\n",
        "labels = list(llm_use.keys())\n",
        "values = list(llm_use.values())\n",
        "\n",
        "# adatnekevek pozíciója\n",
        "pos = range(len(labels))\n",
        "\n",
        "# diagram\n",
        "fig, ax = plt.subplots()\n",
        "ax.barh(pos, values)\n",
        "ax.set_yticks(pos, labels)\n"
      ],
      "metadata": {
        "colab": {
          "base_uri": "https://localhost:8080/",
          "height": 534
        },
        "id": "zk5mjzJ-tNhm",
        "outputId": "a0d3b2e2-c041-41a2-e9c7-9d6fb42d4fe8"
      },
      "execution_count": 14,
      "outputs": [
        {
          "output_type": "execute_result",
          "data": {
            "text/plain": [
              "[<matplotlib.axis.YTick at 0x78d4fa7e2650>,\n",
              " <matplotlib.axis.YTick at 0x78d4faa0f340>,\n",
              " <matplotlib.axis.YTick at 0x78d4fa4fe140>,\n",
              " <matplotlib.axis.YTick at 0x78d4fa543940>,\n",
              " <matplotlib.axis.YTick at 0x78d4fa543dc0>,\n",
              " <matplotlib.axis.YTick at 0x78d4fa57cc10>]"
            ]
          },
          "metadata": {},
          "execution_count": 14
        },
        {
          "output_type": "display_data",
          "data": {
            "text/plain": [
              "<Figure size 640x480 with 1 Axes>"
            ],
            "image/png": "[encoded data removed]"
          },
          "metadata": {}
        }
      ]
    },
    {
      "cell_type": "markdown",
      "source": [],
      "metadata": {
        "id": "xOSmli2V5jyL"
      }
    },
    {
      "cell_type": "code",
      "source": [
        "# Nyelvi modell ismeret - kicsit szebben\n",
        "\n",
        "# sorrendezzük az adatokat csökkenő sorrenbe\n",
        "ordered_list = sorted([(k, v) for k, v in llm_use.items()], key=lambda x: -x[1])\n",
        "\n",
        "# nyerjük ki a címkéket és az adatokat\n",
        "labels, values = tuple(zip(*ordered_list))\n",
        "\n",
        "# pozícionáljuk az adatokat visszafelé (felül legyen az első)\n",
        "pos = [len(labels) - i for i in range(len(labels))]\n",
        "\n",
        "# készítsük el a diagramot\n",
        "fig, ax = plt.subplots()\n",
        "ax.barh(pos, values)\n",
        "ax.set_yticks(pos, labels)\n"
      ],
      "metadata": {
        "outputId": "a3b6921e-fea5-4414-8717-f02a9d89329f",
        "colab": {
          "base_uri": "https://localhost:8080/",
          "height": 534
        },
        "id": "ecJWsxvwzsyN"
      },
      "execution_count": 20,
      "outputs": [
        {
          "output_type": "execute_result",
          "data": {
            "text/plain": [
              "[<matplotlib.axis.YTick at 0x78d4fa8734f0>,\n",
              " <matplotlib.axis.YTick at 0x78d4fa599060>,\n",
              " <matplotlib.axis.YTick at 0x78d4fa4ff6a0>,\n",
              " <matplotlib.axis.YTick at 0x78d4fa60bd30>,\n",
              " <matplotlib.axis.YTick at 0x78d4fa5f4b80>,\n",
              " <matplotlib.axis.YTick at 0x78d4fa5f5630>]"
            ]
          },
          "metadata": {},
          "execution_count": 20
        },
        {
          "output_type": "display_data",
          "data": {
            "text/plain": [
              "<Figure size 640x480 with 1 Axes>"
            ],
            "image/png": "[encoded data removed]"
          },
          "metadata": {}
        }
      ]
    },
    {
      "cell_type": "markdown",
      "source": [
        "Sok más vizualizációs csomag létezik, néhány minden javaslat nélkül:\n",
        "- [Plotly](https://plotly.com/python/)  \n",
        "- [Seaborn](https://seaborn.pydata.org/)  \n",
        "- ...\n",
        "\n",
        "Adatriportok készítésére speciális programok is vannak: Tableau, PowerBI, ... ([wikipedia](https://en.wikipedia.org/wiki/Dashboard_(computing)))\n",
        "\n",
        "\n",
        "Infografikák is ide tartoznak ([wikipedia](https://en.wikipedia.org/wiki/Infographic))"
      ],
      "metadata": {
        "id": "tKbIE3K24L5s"
      }
    },
    {
      "cell_type": "markdown",
      "source": [
        "\n"
      ],
      "metadata": {
        "id": "BsrIn_Jr1r33"
      }
    }
  ]
}