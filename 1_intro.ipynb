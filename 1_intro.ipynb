{
  "nbformat": 4,
  "nbformat_minor": 0,
  "metadata": {
    "colab": {
      "provenance": [],
      "authorship_tag": "ABX9TyO7i2EfSu8BGTWAq9SVtqc3",
      "include_colab_link": true
    },
    "kernelspec": {
      "name": "python3",
      "display_name": "Python 3"
    },
    "language_info": {
      "name": "python"
    }
  },
  "cells": [
    {
      "cell_type": "markdown",
      "metadata": {
        "id": "view-in-github",
        "colab_type": "text"
      },
      "source": [
        "<a href=\"https://colab.research.google.com/github/erfrits/girls_day_ds/blob/main/1_intro.ipynb\" target=\"_parent\"><img src=\"https://colab.research.google.com/assets/colab-badge.svg\" alt=\"Open In Colab\"/></a>"
      ]
    },
    {
      "cell_type": "code",
      "source": [],
      "metadata": {
        "id": "EuMavRBdCndb"
      },
      "execution_count": null,
      "outputs": []
    },
    {
      "cell_type": "markdown",
      "source": [
        "# Bevezető"
      ],
      "metadata": {
        "id": "daSK7hxh5mfb"
      }
    },
    {
      "cell_type": "markdown",
      "source": [
        "## Néhány alap statisztika"
      ],
      "metadata": {
        "id": "8v9UYTck5tbi"
      }
    },
    {
      "cell_type": "code",
      "source": [
        "from collections import defaultdict"
      ],
      "metadata": {
        "id": "AgwkJNZw6fhN"
      },
      "execution_count": 1,
      "outputs": []
    },
    {
      "cell_type": "code",
      "source": [
        "# Hányan vagyunk?\n",
        "n = 0"
      ],
      "metadata": {
        "id": "7TSnw_k_FkQh"
      },
      "execution_count": null,
      "outputs": []
    },
    {
      "cell_type": "code",
      "source": [
        "# Hanyadik évfolyam\n",
        "grades = defaultdict(lambda: 0)\n",
        "\n",
        "# tortadiagram\n"
      ],
      "metadata": {
        "id": "57Rg-0-UCDGL"
      },
      "execution_count": null,
      "outputs": []
    },
    {
      "cell_type": "code",
      "execution_count": 4,
      "metadata": {
        "id": "eG4ZcQHu5S5l"
      },
      "outputs": [],
      "source": [
        "# Ki honnan jött?\n",
        "locations = defaultdict(lambda: 0)"
      ]
    },
    {
      "cell_type": "code",
      "source": [
        "# eloszlás (oszlopdiagram)"
      ],
      "metadata": {
        "id": "24yJcmKYA_uL"
      },
      "execution_count": null,
      "outputs": []
    },
    {
      "cell_type": "code",
      "source": [
        "# térkép"
      ],
      "metadata": {
        "id": "YSVdJPD9BEQt"
      },
      "execution_count": null,
      "outputs": []
    },
    {
      "cell_type": "code",
      "source": [
        "# Ki használt már gépi tanulást bármire?\n",
        "ml_use = {\n",
        "    'Igen': 0,\n",
        "    'Nem': 0\n",
        "}"
      ],
      "metadata": {
        "id": "9uFNjiG7E6_S"
      },
      "execution_count": null,
      "outputs": []
    },
    {
      "cell_type": "code",
      "source": [
        "# Ki használt már ChatGPT-t, Bing Copilotot, GitHub Copilot-ot?\n",
        "\n"
      ],
      "metadata": {
        "id": "dNuzY2kBFYq8"
      },
      "execution_count": null,
      "outputs": []
    },
    {
      "cell_type": "markdown",
      "source": [],
      "metadata": {
        "id": "xOSmli2V5jyL"
      }
    }
  ]
}